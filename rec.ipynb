{
 "cells": [
  {
   "cell_type": "code",
   "execution_count": 1,
   "metadata": {},
   "outputs": [],
   "source": [
    "from recommender import *"
   ]
  },
  {
   "cell_type": "code",
   "execution_count": 2,
   "metadata": {},
   "outputs": [],
   "source": [
    "df_movies = load_movie_data()"
   ]
  },
  {
   "cell_type": "code",
   "execution_count": 3,
   "metadata": {},
   "outputs": [],
   "source": [
    "df_ratings = load_ratings_data()"
   ]
  },
  {
   "cell_type": "code",
   "execution_count": 4,
   "metadata": {},
   "outputs": [
    {
     "output_type": "stream",
     "name": "stderr",
     "text": "NumExpr defaulting to 8 threads.\n"
    }
   ],
   "source": [
    "movie_user_mat = get_movies_user_matrix(df_movies,df_ratings)\n",
    "mapper = movie_to_idx(df_movies,movie_user_mat)\n",
    "train_data = get_movie_user_sparse_mat(movie_user_mat)"
   ]
  },
  {
   "cell_type": "code",
   "execution_count": 5,
   "metadata": {},
   "outputs": [],
   "source": [
    "model= create_model(train_data)"
   ]
  },
  {
   "cell_type": "code",
   "execution_count": 6,
   "metadata": {},
   "outputs": [
    {
     "output_type": "execute_result",
     "data": {
      "text/plain": "<4525x8276 sparse matrix of type '<class 'numpy.float32'>'\n\twith 1712154 stored elements in Compressed Sparse Row format>"
     },
     "metadata": {},
     "execution_count": 6
    }
   ],
   "source": [
    "train_data"
   ]
  },
  {
   "cell_type": "code",
   "execution_count": 7,
   "metadata": {},
   "outputs": [
    {
     "output_type": "execute_result",
     "data": {
      "text/plain": "(['Toy Story (1995)', 'Toy Story 3 (2010)', 'Toy Story 2 (1999)'],\n [{'movie': 'Braveheart (1995)', 'distance': 0.4346662163734436},\n  {'movie': 'Groundhog Day (1993)', 'distance': 0.4337162375450134},\n  {'movie': 'Men in Black (a.k.a. MIB) (1997)',\n   'distance': 0.43105262517929077},\n  {'movie': 'Matrix, The (1999)', 'distance': 0.42847883701324463},\n  {'movie': 'Silence of the Lambs, The (1991)',\n   'distance': 0.42610615491867065},\n  {'movie': 'Apollo 13 (1995)', 'distance': 0.42459481954574585},\n  {'movie': 'Terminator 2: Judgment Day (1991)',\n   'distance': 0.4197569489479065},\n  {'movie': 'Raiders of the Lost Ark (Indiana Jones and the Raiders of the Lost Ark) (1981)',\n   'distance': 0.4146196246147156},\n  {'movie': 'Shawshank Redemption, The (1994)',\n   'distance': 0.41288822889328003},\n  {'movie': 'Independence Day (a.k.a. ID4) (1996)',\n   'distance': 0.40872037410736084},\n  {'movie': 'Pulp Fiction (1994)', 'distance': 0.408139169216156},\n  {'movie': 'Star Wars: Episode V - The Empire Strikes Back (1980)',\n   'distance': 0.40672963857650757},\n  {'movie': 'Toy Story 2 (1999)', 'distance': 0.4046943187713623},\n  {'movie': 'Lion King, The (1994)', 'distance': 0.39655691385269165},\n  {'movie': 'Back to the Future (1985)', 'distance': 0.3928336501121521},\n  {'movie': 'Aladdin (1992)', 'distance': 0.38924604654312134},\n  {'movie': 'Star Wars: Episode VI - Return of the Jedi (1983)',\n   'distance': 0.38832491636276245},\n  {'movie': 'Jurassic Park (1993)', 'distance': 0.38393574953079224},\n  {'movie': 'Star Wars: Episode IV - A New Hope (1977)',\n   'distance': 0.37609797716140747},\n  {'movie': 'Forrest Gump (1994)', 'distance': 0.3728138208389282}])"
     },
     "metadata": {},
     "execution_count": 7
    }
   ],
   "source": [
    "my_favorite = 'Toy Story '\n",
    "make_recommendation(\n",
    "    model_knn=model,\n",
    "    data=train_data,\n",
    "    fav_movie=my_favorite,\n",
    "    mapper=mapper,\n",
    "    n_recommendations=20)"
   ]
  },
  {
   "cell_type": "code",
   "execution_count": 15,
   "metadata": {},
   "outputs": [],
   "source": []
  },
  {
   "cell_type": "code",
   "execution_count": 16,
   "metadata": {},
   "outputs": [],
   "source": []
  },
  {
   "cell_type": "code",
   "execution_count": null,
   "metadata": {},
   "outputs": [],
   "source": []
  }
 ],
 "metadata": {
  "language_info": {
   "codemirror_mode": {
    "name": "ipython",
    "version": 3
   },
   "file_extension": ".py",
   "mimetype": "text/x-python",
   "name": "python",
   "nbconvert_exporter": "python",
   "pygments_lexer": "ipython3",
   "version": "3.7.6-final"
  },
  "orig_nbformat": 2,
  "kernelspec": {
   "name": "python3",
   "display_name": "Python 3"
  }
 },
 "nbformat": 4,
 "nbformat_minor": 2
}